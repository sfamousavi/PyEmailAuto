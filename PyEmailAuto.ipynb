{
 "cells": [
  {
   "cell_type": "markdown",
   "metadata": {},
   "source": [
    "# About the Project:\n",
    "\n",
    "\n",
    "PyEmailAuto is a simple ETL and Reporting automation project. \n"
   ]
  },
  {
   "cell_type": "markdown",
   "metadata": {},
   "source": [
    "## Read Libraries"
   ]
  },
  {
   "cell_type": "code",
   "execution_count": 11,
   "metadata": {},
   "outputs": [],
   "source": [
    "import pandas as pd\n",
    "import os\n",
    "\n",
    "from random import randint\n",
    "from pretty_html_table import build_table\n",
    "import seaborn as sns\n",
    "import matplotlib.pyplot as plt\n",
    "from matplotlib.ticker import FuncFormatter\n",
    "\n",
    "import smtplib\n",
    "from email.mime.multipart import MIMEMultipart\n",
    "from email.mime.text import MIMEText\n",
    "from email.mime.image import MIMEImage\n",
    "from email.mime.base import MIMEBase\n",
    "from email import encoders \n",
    "from email.mime.application import MIMEApplication\n",
    "\n",
    "\n",
    "import warnings\n",
    "warnings.filterwarnings('ignore')"
   ]
  },
  {
   "cell_type": "markdown",
   "metadata": {},
   "source": [
    "## Load Data \n",
    "\n",
    "* You can load data from various sources\n",
    "* Read CSV files\n",
    "* Use mysql connector or any API to connect to databases and SELECT data\n",
    "* or even by crawling websites"
   ]
  },
  {
   "cell_type": "code",
   "execution_count": 12,
   "metadata": {},
   "outputs": [],
   "source": [
    "# Here we just generate some random number as our data source\n",
    "# In this example we are reporting last week revenue in comparison with the week before that\n",
    "\n",
    "week_day = [\"Mon\", \"Tue\", \"Wed\", \"Thu\", \"Fri\", \"Sat\", \"Sun\"]\n",
    "revenue_week_current = [randint(4000,7000) for i in range(len(week_day))]\n",
    "revenue_week_before = [randint(4000,7000) for i in range(len(week_day))]\n",
    "\n",
    "df_revenue_current = pd.DataFrame({\"Weekday\":week_day,\"revenue\":revenue_week_current})\n",
    "df_revenue_before = pd.DataFrame({\"Weekday\":week_day,\"revenue\":revenue_week_before})"
   ]
  },
  {
   "cell_type": "markdown",
   "metadata": {},
   "source": [
    "## Transform Data \n",
    "\n",
    "Data is reported in these formats:\n",
    "* Total values and comparison with previous week in a text\n",
    "* Daily value in a beautiful table format\n",
    "* Daily values in graph format\n",
    "* Both tables are printed in an excel file and will be attached to the email"
   ]
  },
  {
   "cell_type": "code",
   "execution_count": 13,
   "metadata": {},
   "outputs": [],
   "source": [
    "# Here are some useful function to transform data into different formats\n",
    "\n",
    "# get_total gets the whole week revenue and change the number to a readable string format\n",
    "def get_total(df_revenue):\n",
    "    total_value = df_revenue[\"revenue\"].sum()\n",
    "    payment_string = \"{:,} $\".format(int(total_value))\n",
    "    \n",
    "    return payment_string , total_value\n",
    "\n",
    "\n",
    "\n",
    "# diff_percent return the difference between two weeks revenue\n",
    "def diff_percent(value1 , value2):\n",
    "    diff_p = int(round((value1/value2 -1)*100 , 0))\n",
    "    \n",
    "    return diff_p\n",
    "\n",
    "\n",
    "def print_tables_excel(table_list,table_names):\n",
    "    excel_file = \"Some_Sample_Data.xlsx\"\n",
    "    writer = pd.ExcelWriter(excel_file, engine='xlsxwriter')\n",
    "    start_row = 1\n",
    "    workbook  = writer.book\n",
    "\n",
    "\n",
    "    for tb in table_list:\n",
    "        \n",
    "        # change values to the comma separate format\n",
    "        tb[\"Revenue ($)\"] = [\"{:,}\".format(int(item)) for item in tb[\"revenue\"]]\n",
    "        \n",
    "        # Set values align in center of cells \n",
    "        start_row += 1\n",
    "        tb[['Weekday',\"Revenue ($)\"]].style.set_properties(**{'text-align': 'center'}).to_excel(writer, startrow = start_row, sheet_name='revenue', index=False)\n",
    "        start_row += len(tb)+3\n",
    "        #Iterate through each column and set the width to max value+2\n",
    "        worksheet = writer.sheets['revenue']\n",
    "\n",
    "        for i, col in enumerate(tb[['Weekday',\"Revenue ($)\"]].columns):\n",
    "            column_len = tb[['Weekday',\"Revenue ($)\"]][col].astype(str).str.len().max()\n",
    "            column_len = max(column_len, len(col)) + 2\n",
    "            worksheet.set_column(i, i, column_len)\n",
    "            \n",
    "    start_row = 1\n",
    "    for i, tbn in enumerate(table_names):\n",
    "        worksheet.write(start_row, 0, 'Revenue Values of  {}'.format(tbn), workbook.add_format({'bold': True, 'color': '#E26B0A', 'size': 14}))        \n",
    "        start_row += len(table_list[i])+4\n",
    "        \n",
    "    writer.save()\n",
    "    return excel_file\n",
    "\n",
    "\n",
    "def make_beautiful(df_week):\n",
    "    \n",
    "    df_week[\"Revenue ($)\"] = [\"{:,}\".format(int(item)) for item in df_week[\"revenue\"]]\n",
    "    pretty_table =  build_table(df_week[[\"Weekday\" , \"Revenue ($)\"]], 'blue_light' ,  text_align='center' ,font_size=12 )\n",
    "    \n",
    "    return pretty_table\n",
    "\n",
    "\n",
    "def plot_graph(df_table1):\n",
    "    \n",
    "    sns.set()\n",
    "    fig , ax = plt.subplots(figsize = (10,6))\n",
    "    ax.bar(df_table1[\"Weekday\"], df_table1.revenue.values, color = 'b' ,width =0.5 )\n",
    "    ax.get_yaxis().set_major_formatter(\n",
    "        FuncFormatter(lambda x, p: format(int(x), ',')+\" $\"))\n",
    "    for index, row in df_table1.iterrows():\n",
    "        ax.text(row.Weekday,row.revenue,  \"{:,}\".format(int(row.revenue)) ,\n",
    "             color='black', ha=\"center\" ,fontsize=2*len(df_table1) )\n",
    "    ax.grid(False)\n",
    "    title_text = 'Last Week Revenue ($)'\n",
    "    plt.title(title_text)\n",
    "    image_name = \"Last_Week_Revenue.png\"\n",
    "    plt.savefig(image_name)\n",
    "    return image_name\n",
    "    \n",
    "\n"
   ]
  },
  {
   "cell_type": "code",
   "execution_count": 14,
   "metadata": {},
   "outputs": [
    {
     "name": "stdout",
     "output_type": "stream",
     "text": [
      "The total revenue of this week was: 35,988 $\n"
     ]
    },
    {
     "data": {
      "image/png": "[encoded data removed]",
      "text/plain": [
       "<Figure size 720x432 with 1 Axes>"
      ]
     },
     "metadata": {},
     "output_type": "display_data"
    }
   ],
   "source": [
    "# Now it's time to transform data\n",
    "\n",
    "payment_string_current,total_value_current = get_total(df_revenue_current)\n",
    "print(\"The total revenue of this week was: {}\".format(payment_string_current))\n",
    "\n",
    "payment_string_before,total_value_before = get_total(df_revenue_before)\n",
    "\n",
    "\n",
    "diff_p = diff_percent(total_value_current , total_value_before)\n",
    "\n",
    "excel_file = print_tables_excel([df_revenue_current , df_revenue_before],[\"This Week ($)\" , \"Previous Week ($)\"])\n",
    "\n",
    "pretty_table = make_beautiful(df_revenue_current)\n",
    "\n",
    "image_name = plot_graph(df_revenue_current )\n",
    "\n"
   ]
  },
  {
   "cell_type": "markdown",
   "metadata": {},
   "source": [
    "## Load Data\n",
    "\n",
    "Here whrere you send all the report material via email.\n",
    "There are some tips to do this:\n",
    "* Don't use your personal email address \n",
    "* You may need to make some changes in the email account setting to use this api\n",
    "* There are lots of other report format that you can use. Be creative and Automate Insightful Data Reports."
   ]
  },
  {
   "cell_type": "code",
   "execution_count": 15,
   "metadata": {},
   "outputs": [
    {
     "name": "stdout",
     "output_type": "stream",
     "text": [
      "Mail Sent\n"
     ]
    }
   ],
   "source": [
    "mail_content = '''\n",
    "    Dear All\n",
    "    \n",
    "    Here is the total revenue of last week:   {} . \n",
    "    In comparison to the previous week, we had {}% growth in the revenue payment.\n",
    "    \n",
    "    Bests,\n",
    "    Reporting Team\n",
    "    \n",
    "'''.format(payment_string_current , diff_p)    \n",
    "\n",
    "#Put sender email address and password here \n",
    "sender_address = 'report.email@mail.com'\n",
    "sender_pass = 'reportemailpassword'\n",
    "\n",
    "\n",
    "receiver_address = ['sfa.mousavi@gmail.com']\n",
    "\n",
    "#Setup the MIME\n",
    "message = MIMEMultipart()\n",
    "message['From'] = sender_address\n",
    "message['To'] = \", \".join(receiver_address)\n",
    "message['Subject'] = 'Automate Report of Last Week'\n",
    "\n",
    "#The body and the attachments for the mail\n",
    "message.attach(MIMEText(mail_content, 'plain'))\n",
    "attach_file_name = excel_file\n",
    "payload=MIMEApplication(open(attach_file_name,\"rb\").read())\n",
    "encoders.encode_base64(payload) #encode the attachment\n",
    "payload.add_header('Content-Disposition', 'attachment', filename=attach_file_name)\n",
    "message.attach(payload)\n",
    "\n",
    "ImgFileName = image_name\n",
    "with open(ImgFileName, 'rb') as f:\n",
    "    img_data = f.read()\n",
    "    image = MIMEImage(img_data, name=os.path.basename(ImgFileName))\n",
    "    message.attach(image)\n",
    "\n",
    "# And  add that pretty table\n",
    "message.attach(MIMEText(pretty_table, \"html\"))\n",
    "\n",
    "\n",
    "session = smtplib.SMTP('smtp.gmail.com', 587) #use gmail with port\n",
    "session.starttls() #enable security\n",
    "session.login(sender_address, sender_pass) #login with mail_id and password\n",
    "text = message.as_string()\n",
    "session.sendmail(sender_address, receiver_address, text)\n",
    "session.quit()\n",
    "print('Mail Sent')\n",
    "\n",
    " \n",
    "    \n"
   ]
  }
 ],
 "metadata": {
  "kernelspec": {
   "display_name": "Python 3",
   "language": "python",
   "name": "python3"
  },
  "language_info": {
   "codemirror_mode": {
    "name": "ipython",
    "version": 3
   },
   "file_extension": ".py",
   "mimetype": "text/x-python",
   "name": "python",
   "nbconvert_exporter": "python",
   "pygments_lexer": "ipython3",
   "version": "3.6.9"
  }
 },
 "nbformat": 4,
 "nbformat_minor": 4
}
